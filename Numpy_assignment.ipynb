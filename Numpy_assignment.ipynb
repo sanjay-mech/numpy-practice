{
  "nbformat": 4,
  "nbformat_minor": 0,
  "metadata": {
    "colab": {
      "provenance": []
    },
    "kernelspec": {
      "name": "python3",
      "display_name": "Python 3"
    },
    "language_info": {
      "name": "python"
    }
  },
  "cells": [
    {
      "cell_type": "code",
      "execution_count": null,
      "metadata": {
        "colab": {
          "base_uri": "https://localhost:8080/",
          "height": 183
        },
        "id": "3dgg7zMo1BOQ",
        "outputId": "c74cd025-ec99-470f-f148-6489f5539364"
      },
      "outputs": [
        {
          "output_type": "error",
          "ename": "TypeError",
          "evalue": "ignored",
          "traceback": [
            "\u001b[0;31m---------------------------------------------------------------------------\u001b[0m",
            "\u001b[0;31mTypeError\u001b[0m                                 Traceback (most recent call last)",
            "\u001b[0;32m<ipython-input-16-a93d1afac8da>\u001b[0m in \u001b[0;36m<cell line: 2>\u001b[0;34m()\u001b[0m\n\u001b[1;32m      1\u001b[0m \u001b[0;32mimport\u001b[0m \u001b[0mnumpy\u001b[0m \u001b[0;32mas\u001b[0m \u001b[0mnp\u001b[0m\u001b[0;34m\u001b[0m\u001b[0;34m\u001b[0m\u001b[0m\n\u001b[0;32m----> 2\u001b[0;31m \u001b[0mnp\u001b[0m\u001b[0;34m.\u001b[0m\u001b[0mversion\u001b[0m\u001b[0;34m(\u001b[0m\u001b[0;34m)\u001b[0m\u001b[0;34m\u001b[0m\u001b[0;34m\u001b[0m\u001b[0m\n\u001b[0m",
            "\u001b[0;31mTypeError\u001b[0m: 'module' object is not callable"
          ]
        }
      ],
      "source": [
        "import numpy as np\n",
        "np.version\n"
      ]
    },
    {
      "cell_type": "code",
      "source": [
        "help(np.add)\n"
      ],
      "metadata": {
        "colab": {
          "base_uri": "https://localhost:8080/"
        },
        "id": "XUcL4Ctw1JVa",
        "outputId": "77f1c158-8663-4fca-e643-8b38d4ca1976"
      },
      "execution_count": null,
      "outputs": [
        {
          "output_type": "stream",
          "name": "stdout",
          "text": [
            "Help on ufunc:\n",
            "\n",
            "add = <ufunc 'add'>\n",
            "    add(x1, x2, /, out=None, *, where=True, casting='same_kind', order='K', dtype=None, subok=True[, signature, extobj])\n",
            "    \n",
            "    Add arguments element-wise.\n",
            "    \n",
            "    Parameters\n",
            "    ----------\n",
            "    x1, x2 : array_like\n",
            "        The arrays to be added.\n",
            "        If ``x1.shape != x2.shape``, they must be broadcastable to a common\n",
            "        shape (which becomes the shape of the output).\n",
            "    out : ndarray, None, or tuple of ndarray and None, optional\n",
            "        A location into which the result is stored. If provided, it must have\n",
            "        a shape that the inputs broadcast to. If not provided or None,\n",
            "        a freshly-allocated array is returned. A tuple (possible only as a\n",
            "        keyword argument) must have length equal to the number of outputs.\n",
            "    where : array_like, optional\n",
            "        This condition is broadcast over the input. At locations where the\n",
            "        condition is True, the `out` array will be set to the ufunc result.\n",
            "        Elsewhere, the `out` array will retain its original value.\n",
            "        Note that if an uninitialized `out` array is created via the default\n",
            "        ``out=None``, locations within it where the condition is False will\n",
            "        remain uninitialized.\n",
            "    **kwargs\n",
            "        For other keyword-only arguments, see the\n",
            "        :ref:`ufunc docs <ufuncs.kwargs>`.\n",
            "    \n",
            "    Returns\n",
            "    -------\n",
            "    add : ndarray or scalar\n",
            "        The sum of `x1` and `x2`, element-wise.\n",
            "        This is a scalar if both `x1` and `x2` are scalars.\n",
            "    \n",
            "    Notes\n",
            "    -----\n",
            "    Equivalent to `x1` + `x2` in terms of array broadcasting.\n",
            "    \n",
            "    Examples\n",
            "    --------\n",
            "    >>> np.add(1.0, 4.0)\n",
            "    5.0\n",
            "    >>> x1 = np.arange(9.0).reshape((3, 3))\n",
            "    >>> x2 = np.arange(3.0)\n",
            "    >>> np.add(x1, x2)\n",
            "    array([[  0.,   2.,   4.],\n",
            "           [  3.,   5.,   7.],\n",
            "           [  6.,   8.,  10.]])\n",
            "    \n",
            "    The ``+`` operator can be used as a shorthand for ``np.add`` on ndarrays.\n",
            "    \n",
            "    >>> x1 = np.arange(9.0).reshape((3, 3))\n",
            "    >>> x2 = np.arange(3.0)\n",
            "    >>> x1 + x2\n",
            "    array([[ 0.,  2.,  4.],\n",
            "           [ 3.,  5.,  7.],\n",
            "           [ 6.,  8., 10.]])\n",
            "\n"
          ]
        }
      ]
    },
    {
      "cell_type": "code",
      "source": [
        "a = np.array(np.arange(1,10))\n",
        "np.any(a==0)\n",
        "a"
      ],
      "metadata": {
        "colab": {
          "base_uri": "https://localhost:8080/"
        },
        "id": "-L-nsK7v1dBM",
        "outputId": "43f134fc-b5d1-40ad-f1b1-d86cf884d172"
      },
      "execution_count": null,
      "outputs": [
        {
          "output_type": "execute_result",
          "data": {
            "text/plain": [
              "array([1, 2, 3, 4, 5, 6, 7, 8, 9])"
            ]
          },
          "metadata": {},
          "execution_count": 27
        }
      ]
    },
    {
      "cell_type": "code",
      "source": [
        "np.all(a)"
      ],
      "metadata": {
        "colab": {
          "base_uri": "https://localhost:8080/"
        },
        "id": "UNyCiXxh2T1T",
        "outputId": "d1173b97-63b8-4e90-8b1b-e5cf35e0102d"
      },
      "execution_count": null,
      "outputs": [
        {
          "output_type": "execute_result",
          "data": {
            "text/plain": [
              "True"
            ]
          },
          "metadata": {},
          "execution_count": 28
        }
      ]
    },
    {
      "cell_type": "code",
      "source": [
        "np.show_config()"
      ],
      "metadata": {
        "colab": {
          "base_uri": "https://localhost:8080/"
        },
        "id": "-pmFepc51m0E",
        "outputId": "b334c337-40eb-4927-9570-04e8db72fc07"
      },
      "execution_count": null,
      "outputs": [
        {
          "output_type": "stream",
          "name": "stdout",
          "text": [
            "openblas64__info:\n",
            "    libraries = ['openblas64_', 'openblas64_']\n",
            "    library_dirs = ['/usr/local/lib']\n",
            "    language = c\n",
            "    define_macros = [('HAVE_CBLAS', None), ('BLAS_SYMBOL_SUFFIX', '64_'), ('HAVE_BLAS_ILP64', None)]\n",
            "    runtime_library_dirs = ['/usr/local/lib']\n",
            "blas_ilp64_opt_info:\n",
            "    libraries = ['openblas64_', 'openblas64_']\n",
            "    library_dirs = ['/usr/local/lib']\n",
            "    language = c\n",
            "    define_macros = [('HAVE_CBLAS', None), ('BLAS_SYMBOL_SUFFIX', '64_'), ('HAVE_BLAS_ILP64', None)]\n",
            "    runtime_library_dirs = ['/usr/local/lib']\n",
            "openblas64__lapack_info:\n",
            "    libraries = ['openblas64_', 'openblas64_']\n",
            "    library_dirs = ['/usr/local/lib']\n",
            "    language = c\n",
            "    define_macros = [('HAVE_CBLAS', None), ('BLAS_SYMBOL_SUFFIX', '64_'), ('HAVE_BLAS_ILP64', None), ('HAVE_LAPACKE', None)]\n",
            "    runtime_library_dirs = ['/usr/local/lib']\n",
            "lapack_ilp64_opt_info:\n",
            "    libraries = ['openblas64_', 'openblas64_']\n",
            "    library_dirs = ['/usr/local/lib']\n",
            "    language = c\n",
            "    define_macros = [('HAVE_CBLAS', None), ('BLAS_SYMBOL_SUFFIX', '64_'), ('HAVE_BLAS_ILP64', None), ('HAVE_LAPACKE', None)]\n",
            "    runtime_library_dirs = ['/usr/local/lib']\n",
            "Supported SIMD extensions in this NumPy install:\n",
            "    baseline = SSE,SSE2,SSE3\n",
            "    found = SSSE3,SSE41,POPCNT,SSE42,AVX,F16C,FMA3,AVX2\n",
            "    not found = AVX512F,AVX512CD,AVX512_KNL,AVX512_KNM,AVX512_SKX,AVX512_CLX,AVX512_CNL,AVX512_ICL\n"
          ]
        }
      ]
    },
    {
      "cell_type": "code",
      "source": [
        "a = np.array(np.arange(1,10))\n",
        "np.isinf(a)\n"
      ],
      "metadata": {
        "colab": {
          "base_uri": "https://localhost:8080/"
        },
        "id": "grCR8DTG16Lj",
        "outputId": "9751ab4b-8b22-45f4-ecba-6bd9fb3c6f43"
      },
      "execution_count": null,
      "outputs": [
        {
          "output_type": "execute_result",
          "data": {
            "text/plain": [
              "array([False, False, False, False, False, False, False, False, False])"
            ]
          },
          "metadata": {},
          "execution_count": 35
        }
      ]
    },
    {
      "cell_type": "code",
      "source": [
        "a = np.array(np.arange(1,10))\n",
        "np.isposinf(a)\n"
      ],
      "metadata": {
        "colab": {
          "base_uri": "https://localhost:8080/"
        },
        "id": "zsaKR1zm4k9v",
        "outputId": "b8e9db3a-bbb0-46b9-cd2f-104834aeb3ab"
      },
      "execution_count": null,
      "outputs": [
        {
          "output_type": "execute_result",
          "data": {
            "text/plain": [
              "array([False, False, False, False, False, False, False, False, False])"
            ]
          },
          "metadata": {},
          "execution_count": 36
        }
      ]
    },
    {
      "cell_type": "code",
      "source": [
        "a = np.array(np.arange(1,10))\n",
        "np.isnan(a)"
      ],
      "metadata": {
        "colab": {
          "base_uri": "https://localhost:8080/"
        },
        "id": "Bv55GKDC5RQD",
        "outputId": "cde90610-621f-4a83-ff9f-2134420bf597"
      },
      "execution_count": null,
      "outputs": [
        {
          "output_type": "execute_result",
          "data": {
            "text/plain": [
              "array([False, False, False, False, False, False, False, False, False])"
            ]
          },
          "metadata": {},
          "execution_count": 38
        }
      ]
    },
    {
      "cell_type": "code",
      "source": [
        "a = np.array(np.arange(1,10))\n",
        "np.iscomplex(a)\n",
        "np.isreal(a)\n",
        "np.isscalar(a)"
      ],
      "metadata": {
        "colab": {
          "base_uri": "https://localhost:8080/"
        },
        "id": "Z0Ru1Vp25Z0d",
        "outputId": "64fc22a6-77d6-418c-9641-b508736bceea"
      },
      "execution_count": null,
      "outputs": [
        {
          "output_type": "execute_result",
          "data": {
            "text/plain": [
              "False"
            ]
          },
          "metadata": {},
          "execution_count": 41
        }
      ]
    },
    {
      "cell_type": "code",
      "source": [
        "c = np.array([1,2,3,4])\n",
        "d = np.array([4,5,6,7])\n",
        "result = np.allclose(c, d, atol=0.2)\n",
        "\n",
        "print(result)\n"
      ],
      "metadata": {
        "colab": {
          "base_uri": "https://localhost:8080/"
        },
        "id": "EEgDMAD95jHc",
        "outputId": "d804074e-6a35-4a5d-8908-f7edf9f424b3"
      },
      "execution_count": null,
      "outputs": [
        {
          "output_type": "stream",
          "name": "stdout",
          "text": [
            "False\n"
          ]
        }
      ]
    },
    {
      "cell_type": "code",
      "source": [
        "import numpy as np\n",
        "\n",
        "# create two numpy arrays with some values\n",
        "a = np.array([1.0, 2.0, 3.0])\n",
        "b = np.array([1.1, 2.0, 3.0])\n",
        "\n",
        "# test if the arrays are element-wise equal within a tolerance of 0.2\n",
        "np.allclose(a, b, atol=0.2)\n"
      ],
      "metadata": {
        "colab": {
          "base_uri": "https://localhost:8080/"
        },
        "id": "shNcAgDH6D7R",
        "outputId": "1d153244-8ac1-4f6f-8784-19e1ada75753"
      },
      "execution_count": null,
      "outputs": [
        {
          "output_type": "execute_result",
          "data": {
            "text/plain": [
              "True"
            ]
          },
          "metadata": {},
          "execution_count": 50
        }
      ]
    },
    {
      "cell_type": "code",
      "source": [
        "                                                                                                                                                                                                                                                                                                                                        ``````````````````````````````````````````````````````````````````````````````````````````````````````````````````````````````````````````````````````````````````````````````````````````````````````````````````````````````````````````````````````````                                                                                                                                                                                                                                                                                                                                                                                                                                                                                                                                                                                                                                                                                                               a>b"
      ],
      "metadata": {
        "colab": {
          "base_uri": "https://localhost:8080/"
        },
        "id": "70lKc1sl6wPB",
        "outputId": "641767a0-8102-47e3-9dbc-81c992a83db3"
      },
      "execution_count": null,
      "outputs": [
        {
          "output_type": "execute_result",
          "data": {
            "text/plain": [
              "array([False, False, False])"
            ]
          },
          "metadata": {},
          "execution_count": 45
        }
      ]
    },
    {
      "cell_type": "code",
      "source": [
        "a<b"
      ],
      "metadata": {
        "colab": {
          "base_uri": "https://localhost:8080/"
        },
        "id": "cNBrQA1T7_WR",
        "outputId": "7f63e4c8-816a-457c-a91a-a9832b01d5df"
      },
      "execution_count": null,
      "outputs": [
        {
          "output_type": "execute_result",
          "data": {
            "text/plain": [
              "array([ True, False, False])"
            ]
          },
          "metadata": {},
          "execution_count": 46
        }
      ]
    },
    {
      "cell_type": "code",
      "source": [
        "a<=b"
      ],
      "metadata": {
        "colab": {
          "base_uri": "https://localhost:8080/"
        },
        "id": "FTuY3NCP8Czv",
        "outputId": "cc6e2ee1-142e-4592-9ad3-dc4ba3c04837"
      },
      "execution_count": null,
      "outputs": [
        {
          "output_type": "execute_result",
          "data": {
            "text/plain": [
              "array([ True,  True,  True])"
            ]
          },
          "metadata": {},
          "execution_count": 47
        }
      ]
    },
    {
      "cell_type": "code",
      "source": [
        "b>=a"
      ],
      "metadata": {
        "colab": {
          "base_uri": "https://localhost:8080/"
        },
        "id": "orUmy7fw8L06",
        "outputId": "a5a68abb-678d-4065-ea18-2ee7b60c07c5"
      },
      "execution_count": null,
      "outputs": [
        {
          "output_type": "execute_result",
          "data": {
            "text/plain": [
              "array([ True,  True,  True])"
            ]
          },
          "metadata": {},
          "execution_count": 49
        }
      ]
    },
    {
      "cell_type": "markdown",
      "source": [
        "Write a NumPy program to create an element-wise comparison (equal, equal within a tolerance)\n",
        "of two given arrays.\n"
      ],
      "metadata": {
        "id": "uRgdw70ohXYn"
      }
    },
    {
      "cell_type": "code",
      "source": [
        "import numpy as np\n",
        "a = np.array([1,2,3,4,5])\n",
        "b= np.array([3,4,5,4,7])\n",
        "a==b"
      ],
      "metadata": {
        "id": "IxYh2KNe8RIp",
        "colab": {
          "base_uri": "https://localhost:8080/"
        },
        "outputId": "1e7b70ef-17fa-4a62-dca1-2e3001e6d9e9"
      },
      "execution_count": 5,
      "outputs": [
        {
          "output_type": "execute_result",
          "data": {
            "text/plain": [
              "array([False, False, False,  True, False])"
            ]
          },
          "metadata": {},
          "execution_count": 5
        }
      ]
    },
    {
      "cell_type": "code",
      "source": [
        "np.allclose(a,b,atol = 0.00)"
      ],
      "metadata": {
        "colab": {
          "base_uri": "https://localhost:8080/"
        },
        "id": "8UhjESyPh1Td",
        "outputId": "46337fe3-145f-49c3-d640-2298c1109fa9"
      },
      "execution_count": 7,
      "outputs": [
        {
          "output_type": "execute_result",
          "data": {
            "text/plain": [
              "False"
            ]
          },
          "metadata": {},
          "execution_count": 7
        }
      ]
    },
    {
      "cell_type": "markdown",
      "source": [
        "12. Write a NumPy program to create an array with the values 1, 7, 13, 105 and determine the size\n",
        "of the memory occupied by the array."
      ],
      "metadata": {
        "id": "Yk9KKba0iLkA"
      }
    },
    {
      "cell_type": "code",
      "source": [
        "a = np.array([1,7,13,105])\n",
        "a.dtype"
      ],
      "metadata": {
        "colab": {
          "base_uri": "https://localhost:8080/"
        },
        "id": "P2xKENqjiIaC",
        "outputId": "2973d0f9-3226-42ca-a531-844147441a71"
      },
      "execution_count": 9,
      "outputs": [
        {
          "output_type": "execute_result",
          "data": {
            "text/plain": [
              "dtype('int64')"
            ]
          },
          "metadata": {},
          "execution_count": 9
        }
      ]
    },
    {
      "cell_type": "code",
      "source": [
        "a.dtype.itemsize"
      ],
      "metadata": {
        "colab": {
          "base_uri": "https://localhost:8080/"
        },
        "id": "CqwWuZiQiVYo",
        "outputId": "4d58abbb-1b91-4d58-83ec-a65cd0fc3925"
      },
      "execution_count": 14,
      "outputs": [
        {
          "output_type": "execute_result",
          "data": {
            "text/plain": [
              "8"
            ]
          },
          "metadata": {},
          "execution_count": 14
        }
      ]
    },
    {
      "cell_type": "code",
      "source": [
        "a.size  * a.itemsize"
      ],
      "metadata": {
        "colab": {
          "base_uri": "https://localhost:8080/"
        },
        "id": "7GNZPgWdkRWi",
        "outputId": "a2e622aa-6635-402a-cfc3-33277340178f"
      },
      "execution_count": 26,
      "outputs": [
        {
          "output_type": "execute_result",
          "data": {
            "text/plain": [
              "32"
            ]
          },
          "metadata": {},
          "execution_count": 26
        }
      ]
    },
    {
      "cell_type": "markdown",
      "source": [
        "13. Write a NumPy program to create an array of 10 zeros,10 ones, 10 fives."
      ],
      "metadata": {
        "id": "WKrNzDP1jNQ9"
      }
    },
    {
      "cell_type": "code",
      "source": [
        "np.zeros(10)"
      ],
      "metadata": {
        "colab": {
          "base_uri": "https://localhost:8080/"
        },
        "id": "PZIU7snJihzA",
        "outputId": "d9660a62-63d5-4166-cfe6-d7b6e848808f"
      },
      "execution_count": 15,
      "outputs": [
        {
          "output_type": "execute_result",
          "data": {
            "text/plain": [
              "array([0., 0., 0., 0., 0., 0., 0., 0., 0., 0.])"
            ]
          },
          "metadata": {},
          "execution_count": 15
        }
      ]
    },
    {
      "cell_type": "code",
      "source": [
        "np.ones(10)"
      ],
      "metadata": {
        "colab": {
          "base_uri": "https://localhost:8080/"
        },
        "id": "7T-p0CISjR06",
        "outputId": "05f568d2-c90a-406b-ba82-a8a7a7fd8b58"
      },
      "execution_count": 17,
      "outputs": [
        {
          "output_type": "execute_result",
          "data": {
            "text/plain": [
              "array([1., 1., 1., 1., 1., 1., 1., 1., 1., 1.])"
            ]
          },
          "metadata": {},
          "execution_count": 17
        }
      ]
    },
    {
      "cell_type": "code",
      "source": [
        "np.ones(10)*5"
      ],
      "metadata": {
        "colab": {
          "base_uri": "https://localhost:8080/"
        },
        "id": "9-u-cQgIjUOI",
        "outputId": "a5920dd7-00ad-4f5e-a3b5-5dda024f06a1"
      },
      "execution_count": 20,
      "outputs": [
        {
          "output_type": "execute_result",
          "data": {
            "text/plain": [
              "array([5., 5., 5., 5., 5., 5., 5., 5., 5., 5.])"
            ]
          },
          "metadata": {},
          "execution_count": 20
        }
      ]
    },
    {
      "cell_type": "markdown",
      "source": [
        "14. Write a NumPy program to create an array of the integers from 30 to70."
      ],
      "metadata": {
        "id": "oZ7FeVhnjtVI"
      }
    },
    {
      "cell_type": "code",
      "source": [
        "\n",
        "np.array(np.arange(30,71))"
      ],
      "metadata": {
        "colab": {
          "base_uri": "https://localhost:8080/"
        },
        "id": "4s4DenQPjaEU",
        "outputId": "4b05b4fe-562b-45b6-8768-b179481a0555"
      },
      "execution_count": 27,
      "outputs": [
        {
          "output_type": "execute_result",
          "data": {
            "text/plain": [
              "array([30, 31, 32, 33, 34, 35, 36, 37, 38, 39, 40, 41, 42, 43, 44, 45, 46,\n",
              "       47, 48, 49, 50, 51, 52, 53, 54, 55, 56, 57, 58, 59, 60, 61, 62, 63,\n",
              "       64, 65, 66, 67, 68, 69, 70])"
            ]
          },
          "metadata": {},
          "execution_count": 27
        }
      ]
    },
    {
      "cell_type": "markdown",
      "source": [
        "15. Write a NumPy program to create an array of all the even integers from 30 to 70.\n"
      ],
      "metadata": {
        "id": "eIb6dSRHkYoY"
      }
    },
    {
      "cell_type": "code",
      "source": [
        "np.array(np.arange(30,71,2))"
      ],
      "metadata": {
        "colab": {
          "base_uri": "https://localhost:8080/"
        },
        "id": "Ceh64rFFjyPF",
        "outputId": "32189338-fa72-4117-95e3-f55c5fd7a22a"
      },
      "execution_count": 28,
      "outputs": [
        {
          "output_type": "execute_result",
          "data": {
            "text/plain": [
              "array([30, 32, 34, 36, 38, 40, 42, 44, 46, 48, 50, 52, 54, 56, 58, 60, 62,\n",
              "       64, 66, 68, 70])"
            ]
          },
          "metadata": {},
          "execution_count": 28
        }
      ]
    },
    {
      "cell_type": "markdown",
      "source": [
        "16. Write a NumPy program to create a 3x3 identity matrix."
      ],
      "metadata": {
        "id": "wNnUlJSMkxZe"
      }
    },
    {
      "cell_type": "code",
      "source": [
        "np.identity(3)"
      ],
      "metadata": {
        "colab": {
          "base_uri": "https://localhost:8080/"
        },
        "id": "ouWffIiskt9e",
        "outputId": "a16efd6e-9d2f-4557-cdcf-e017bf9162cc"
      },
      "execution_count": 30,
      "outputs": [
        {
          "output_type": "execute_result",
          "data": {
            "text/plain": [
              "array([[1., 0., 0.],\n",
              "       [0., 1., 0.],\n",
              "       [0., 0., 1.]])"
            ]
          },
          "metadata": {},
          "execution_count": 30
        }
      ]
    },
    {
      "cell_type": "markdown",
      "source": [
        "17. Write a NumPy program to generate a random number between 0 and 1."
      ],
      "metadata": {
        "id": "eJewjxEok-9r"
      }
    },
    {
      "cell_type": "code",
      "source": [
        "np.random.normal(0,1,50)"
      ],
      "metadata": {
        "colab": {
          "base_uri": "https://localhost:8080/"
        },
        "id": "LnB7LvYYk5SZ",
        "outputId": "7dbef803-9c5f-4be8-d491-472217ce9e8d"
      },
      "execution_count": 40,
      "outputs": [
        {
          "output_type": "execute_result",
          "data": {
            "text/plain": [
              "array([ 0.06264572,  0.77997976,  0.4694584 ,  1.12147432, -0.04145397,\n",
              "       -0.99372437,  0.86916144, -0.32570024,  0.07360659,  0.71998002,\n",
              "        1.40516229,  0.77081881, -0.54746326,  0.40021746,  0.56579896,\n",
              "        1.63892902, -0.24190529, -0.5266838 ,  1.48179754,  1.23089105,\n",
              "        0.38918392,  0.13979063, -1.67983014,  0.1735642 ,  0.20068092,\n",
              "        0.63658068, -0.31519201,  0.99801996,  0.16623371, -1.17645503,\n",
              "       -0.05255828,  0.26818013,  0.8088556 ,  1.29371401, -0.83362604,\n",
              "        1.12776302, -0.9032872 , -1.34277688,  2.54239426,  0.35428457,\n",
              "        1.47362791, -0.33531936, -1.39348127, -0.47081756, -0.21614153,\n",
              "       -2.01784602, -0.87507332,  0.40398015, -1.03992785, -0.17395109])"
            ]
          },
          "metadata": {},
          "execution_count": 40
        }
      ]
    },
    {
      "cell_type": "markdown",
      "source": [
        "18. Write a NumPy program to generate an array of 15 random numbers from a standard normal\n",
        "distribution."
      ],
      "metadata": {
        "id": "Qcr1iK6clmWb"
      }
    },
    {
      "cell_type": "code",
      "source": [
        "np.random.normal(0,1,15)"
      ],
      "metadata": {
        "colab": {
          "base_uri": "https://localhost:8080/"
        },
        "id": "uiklFnbLlD-n",
        "outputId": "2f9d480d-19f3-4959-da5c-64c820f66046"
      },
      "execution_count": 41,
      "outputs": [
        {
          "output_type": "execute_result",
          "data": {
            "text/plain": [
              "array([-0.33430564, -0.12165399, -0.34141778,  2.08721897, -0.49995257,\n",
              "        0.89036867, -1.32174828,  1.35578237, -0.27582375, -0.80946914,\n",
              "       -0.06847484,  0.85116872, -0.58263407, -0.05266942, -0.41294201])"
            ]
          },
          "metadata": {},
          "execution_count": 41
        }
      ]
    },
    {
      "cell_type": "code",
      "source": [],
      "metadata": {
        "id": "EeSwCH7Klq1r"
      },
      "execution_count": null,
      "outputs": []
    },
    {
      "cell_type": "markdown",
      "source": [
        "19. Write a NumPy program to create a vector with values ranging from 15 to 55 and print all values\n",
        "except the first and last."
      ],
      "metadata": {
        "id": "4r2CFS6Xltz5"
      }
    },
    {
      "cell_type": "code",
      "source": [
        "\n",
        "v = np.arange(15,55)\n",
        "\n",
        "\n",
        "print(v[1:-1])"
      ],
      "metadata": {
        "colab": {
          "base_uri": "https://localhost:8080/"
        },
        "id": "AaTAwPMVluX5",
        "outputId": "1f187da5-aa6c-4988-d107-55b3e93d4b89"
      },
      "execution_count": 43,
      "outputs": [
        {
          "output_type": "stream",
          "name": "stdout",
          "text": [
            "[16 17 18 19 20 21 22 23 24 25 26 27 28 29 30 31 32 33 34 35 36 37 38 39\n",
            " 40 41 42 43 44 45 46 47 48 49 50 51 52 53]\n"
          ]
        }
      ]
    },
    {
      "cell_type": "markdown",
      "source": [
        "20. Write a NumPy program to create a 3X4 array using and iterate over it."
      ],
      "metadata": {
        "id": "m73CxfWRmQbt"
      }
    },
    {
      "cell_type": "code",
      "source": [
        "\n",
        "a = np.arange(10,22).reshape((3, 4))\n",
        "\n",
        "print(a)\n",
        "\n",
        "for x in np.nditer(a):\n",
        "  print(x,end=\" \")"
      ],
      "metadata": {
        "colab": {
          "base_uri": "https://localhost:8080/"
        },
        "id": "UP4y08ihl8Ge",
        "outputId": "badda6a6-1f0d-43c5-9451-ba5864d4aa7c"
      },
      "execution_count": 45,
      "outputs": [
        {
          "output_type": "stream",
          "name": "stdout",
          "text": [
            "[[10 11 12 13]\n",
            " [14 15 16 17]\n",
            " [18 19 20 21]]\n",
            "10 11 12 13 14 15 16 17 18 19 20 21 "
          ]
        }
      ]
    },
    {
      "cell_type": "markdown",
      "source": [
        "21. Write a NumPy program to create a vector of length 10 with values evenly distributed between 5\n",
        "and 50."
      ],
      "metadata": {
        "id": "uuSCEf-rmzL3"
      }
    },
    {
      "cell_type": "code",
      "source": [
        "np.array(np.arange(5,51,5))"
      ],
      "metadata": {
        "colab": {
          "base_uri": "https://localhost:8080/"
        },
        "id": "Ohb3ikwrmdRZ",
        "outputId": "a5b200ca-3b2c-4f27-cb05-e96d6b7d9b5b"
      },
      "execution_count": 46,
      "outputs": [
        {
          "output_type": "execute_result",
          "data": {
            "text/plain": [
              "array([ 5, 10, 15, 20, 25, 30, 35, 40, 45, 50])"
            ]
          },
          "metadata": {},
          "execution_count": 46
        }
      ]
    },
    {
      "cell_type": "code",
      "source": [
        "np.array(np.arange(5,51,10))"
      ],
      "metadata": {
        "colab": {
          "base_uri": "https://localhost:8080/"
        },
        "id": "kFc071kCpyoQ",
        "outputId": "6600348d-de3e-4bb6-eddf-ea2ea709a72c"
      },
      "execution_count": 60,
      "outputs": [
        {
          "output_type": "execute_result",
          "data": {
            "text/plain": [
              "array([ 5, 15, 25, 35, 45])"
            ]
          },
          "metadata": {},
          "execution_count": 60
        }
      ]
    },
    {
      "cell_type": "markdown",
      "source": [
        "22. Write a NumPy program to create a vector with values from 0 to 20 and change the sign of the\n",
        "numbers in the range from 9 to 15."
      ],
      "metadata": {
        "id": "NhC8AxMNnGSS"
      }
    },
    {
      "cell_type": "code",
      "source": [
        "a = np.array(np.arange(0,20))"
      ],
      "metadata": {
        "id": "Nzsx6-5xnEhE"
      },
      "execution_count": 47,
      "outputs": []
    },
    {
      "cell_type": "code",
      "source": [
        "for x in np.nditer(a):\n",
        "    if x>=9 and x<=15:\n",
        "        x = x*(-1)\n",
        "    print(x,end=\" \")"
      ],
      "metadata": {
        "colab": {
          "base_uri": "https://localhost:8080/"
        },
        "id": "OYh0mSGznVz3",
        "outputId": "1b7c1f4b-c0e3-4af3-ce3c-65a577cf83b7"
      },
      "execution_count": 50,
      "outputs": [
        {
          "output_type": "stream",
          "name": "stdout",
          "text": [
            "0 1 2 3 4 5 6 7 8 -9 -10 -11 -12 -13 -14 -15 16 17 18 19 "
          ]
        }
      ]
    },
    {
      "cell_type": "markdown",
      "source": [
        "23. Write a NumPy program to create a vector of length 5 filled with arbitrary integers from 0 to 10."
      ],
      "metadata": {
        "id": "0Rl0MUxbn8Rh"
      }
    },
    {
      "cell_type": "code",
      "source": [
        "np.random.randint(0,11,5)"
      ],
      "metadata": {
        "colab": {
          "base_uri": "https://localhost:8080/"
        },
        "id": "qZpxGSNtnwuI",
        "outputId": "f7758b62-e9b5-471e-8b89-5152ff64b9e3"
      },
      "execution_count": 84,
      "outputs": [
        {
          "output_type": "execute_result",
          "data": {
            "text/plain": [
              "array([ 0,  0, 10, 10,  1])"
            ]
          },
          "metadata": {},
          "execution_count": 84
        }
      ]
    },
    {
      "cell_type": "markdown",
      "source": [
        "24. Write a NumPy program to multiply the values of two given vectors."
      ],
      "metadata": {
        "id": "dz01LxPzoalc"
      }
    },
    {
      "cell_type": "code",
      "source": [
        "a = np.array(np.arange(5))"
      ],
      "metadata": {
        "id": "C6IdYRU-oUkS"
      },
      "execution_count": 88,
      "outputs": []
    },
    {
      "cell_type": "code",
      "source": [
        "b = np.random.randint(0,11,5)"
      ],
      "metadata": {
        "id": "A1_cR-jToj-G"
      },
      "execution_count": 89,
      "outputs": []
    },
    {
      "cell_type": "code",
      "source": [
        "print(a)\n",
        "print(b)"
      ],
      "metadata": {
        "colab": {
          "base_uri": "https://localhost:8080/"
        },
        "id": "UkbsSBA6o6Bm",
        "outputId": "089477b1-10c1-4789-e43c-10d2fe83d61c"
      },
      "execution_count": 90,
      "outputs": [
        {
          "output_type": "stream",
          "name": "stdout",
          "text": [
            "[0 1 2 3 4]\n",
            "[3 1 9 8 1]\n"
          ]
        }
      ]
    },
    {
      "cell_type": "code",
      "source": [
        "a*b"
      ],
      "metadata": {
        "colab": {
          "base_uri": "https://localhost:8080/"
        },
        "id": "UVrtWA1kosLY",
        "outputId": "768718c7-71ec-4f4c-8371-0a6648d8f447"
      },
      "execution_count": 91,
      "outputs": [
        {
          "output_type": "execute_result",
          "data": {
            "text/plain": [
              "array([ 0,  1, 18, 24,  4])"
            ]
          },
          "metadata": {},
          "execution_count": 91
        }
      ]
    },
    {
      "cell_type": "markdown",
      "source": [
        "25. Write a NumPy program to create a 3x4 matrix filled with values from 10 to 21."
      ],
      "metadata": {
        "id": "3f12PdYHpOSV"
      }
    },
    {
      "cell_type": "code",
      "source": [
        "np.array(np.arange(10,22) .reshape((3,4)))\n"
      ],
      "metadata": {
        "colab": {
          "base_uri": "https://localhost:8080/"
        },
        "id": "VRlkYfGepKAI",
        "outputId": "5b630132-1ed6-4460-cc64-336b7a6bfba4"
      },
      "execution_count": 71,
      "outputs": [
        {
          "output_type": "execute_result",
          "data": {
            "text/plain": [
              "array([[10, 11, 12, 13],\n",
              "       [14, 15, 16, 17],\n",
              "       [18, 19, 20, 21]])"
            ]
          },
          "metadata": {},
          "execution_count": 71
        }
      ]
    },
    {
      "cell_type": "markdown",
      "source": [
        "26. Write a NumPy program to find the number of rows and columns of a given matrix."
      ],
      "metadata": {
        "id": "Sml8PGHDrLej"
      }
    },
    {
      "cell_type": "code",
      "source": [
        "a =np.array(np.arange(10,22) .reshape((3,4)))\n",
        "a.shape"
      ],
      "metadata": {
        "colab": {
          "base_uri": "https://localhost:8080/"
        },
        "id": "G50MyZnpqOzw",
        "outputId": "7fa29f96-3999-4411-ac1c-86f9f4d66382"
      },
      "execution_count": 72,
      "outputs": [
        {
          "output_type": "execute_result",
          "data": {
            "text/plain": [
              "(3, 4)"
            ]
          },
          "metadata": {},
          "execution_count": 72
        }
      ]
    },
    {
      "cell_type": "markdown",
      "source": [
        "27. Write a NumPy program to create a 3x3 identity matrix, i.e. diagonal elements are 1, the rest are 0"
      ],
      "metadata": {
        "id": "JoestFW5ri-V"
      }
    },
    {
      "cell_type": "code",
      "source": [
        "np.identity(3)"
      ],
      "metadata": {
        "colab": {
          "base_uri": "https://localhost:8080/"
        },
        "id": "8iY2PxTury0S",
        "outputId": "7b6199d7-d65c-459d-f84d-605c28556efe"
      },
      "execution_count": 77,
      "outputs": [
        {
          "output_type": "execute_result",
          "data": {
            "text/plain": [
              "array([[1., 0., 0.],\n",
              "       [0., 1., 0.],\n",
              "       [0., 0., 1.]])"
            ]
          },
          "metadata": {},
          "execution_count": 77
        }
      ]
    },
    {
      "cell_type": "markdown",
      "source": [
        "28. Write a NumPy program to create a 10x10 matrix, in which the elements on the borders will be\n",
        "equal to 1, and inside 0."
      ],
      "metadata": {
        "id": "yg1KetPMs_cv"
      }
    },
    {
      "cell_type": "code",
      "source": [
        "a = np.ones((10,10))\n",
        "print(a)"
      ],
      "metadata": {
        "colab": {
          "base_uri": "https://localhost:8080/"
        },
        "id": "2ismJx7vs9ho",
        "outputId": "a04f9a4e-ee81-4361-902b-50349668f559"
      },
      "execution_count": 92,
      "outputs": [
        {
          "output_type": "stream",
          "name": "stdout",
          "text": [
            "[[1. 1. 1. 1. 1. 1. 1. 1. 1. 1.]\n",
            " [1. 1. 1. 1. 1. 1. 1. 1. 1. 1.]\n",
            " [1. 1. 1. 1. 1. 1. 1. 1. 1. 1.]\n",
            " [1. 1. 1. 1. 1. 1. 1. 1. 1. 1.]\n",
            " [1. 1. 1. 1. 1. 1. 1. 1. 1. 1.]\n",
            " [1. 1. 1. 1. 1. 1. 1. 1. 1. 1.]\n",
            " [1. 1. 1. 1. 1. 1. 1. 1. 1. 1.]\n",
            " [1. 1. 1. 1. 1. 1. 1. 1. 1. 1.]\n",
            " [1. 1. 1. 1. 1. 1. 1. 1. 1. 1.]\n",
            " [1. 1. 1. 1. 1. 1. 1. 1. 1. 1.]]\n"
          ]
        }
      ]
    },
    {
      "cell_type": "code",
      "source": [
        "a = np.ones((10, 10))\n",
        "a[1:-1, 1:-1] = 0\n",
        "print(a)"
      ],
      "metadata": {
        "colab": {
          "base_uri": "https://localhost:8080/"
        },
        "id": "mEmIGbyLtKDT",
        "outputId": "67f88fd0-2048-4dda-c9e8-a69bbc7c3f26"
      },
      "execution_count": 102,
      "outputs": [
        {
          "output_type": "stream",
          "name": "stdout",
          "text": [
            "[[1. 1. 1. 1. 1. 1. 1. 1. 1. 1.]\n",
            " [1. 0. 0. 0. 0. 0. 0. 0. 0. 1.]\n",
            " [1. 0. 0. 0. 0. 0. 0. 0. 0. 1.]\n",
            " [1. 0. 0. 0. 0. 0. 0. 0. 0. 1.]\n",
            " [1. 0. 0. 0. 0. 0. 0. 0. 0. 1.]\n",
            " [1. 0. 0. 0. 0. 0. 0. 0. 0. 1.]\n",
            " [1. 0. 0. 0. 0. 0. 0. 0. 0. 1.]\n",
            " [1. 0. 0. 0. 0. 0. 0. 0. 0. 1.]\n",
            " [1. 0. 0. 0. 0. 0. 0. 0. 0. 1.]\n",
            " [1. 1. 1. 1. 1. 1. 1. 1. 1. 1.]]\n"
          ]
        }
      ]
    },
    {
      "cell_type": "markdown",
      "source": [
        "29. Write a NumPy program to create a 5x5 zero matrix with elements on the main diagonal equal to\n",
        "1, 2, 3, 4, 5."
      ],
      "metadata": {
        "id": "OSZArJ1NuVt2"
      }
    },
    {
      "cell_type": "code",
      "source": [
        "x= np.zeros((5,5))\n",
        "x"
      ],
      "metadata": {
        "colab": {
          "base_uri": "https://localhost:8080/"
        },
        "id": "PHyYv8Ejt9O_",
        "outputId": "39bfb60b-8523-44e8-8a24-89dfa689f656"
      },
      "execution_count": 107,
      "outputs": [
        {
          "output_type": "execute_result",
          "data": {
            "text/plain": [
              "array([[0., 0., 0., 0., 0.],\n",
              "       [0., 0., 0., 0., 0.],\n",
              "       [0., 0., 0., 0., 0.],\n",
              "       [0., 0., 0., 0., 0.],\n",
              "       [0., 0., 0., 0., 0.]])"
            ]
          },
          "metadata": {},
          "execution_count": 107
        }
      ]
    },
    {
      "cell_type": "code",
      "source": [
        "ind = np.diag_indices_from(x)\n",
        "\n",
        "x[ind] = (1,2,3,4,5)\n",
        "x\n"
      ],
      "metadata": {
        "colab": {
          "base_uri": "https://localhost:8080/"
        },
        "id": "u24WoJk-wh7o",
        "outputId": "cf2b74d5-2867-49cc-a256-86167d1a2396"
      },
      "execution_count": 114,
      "outputs": [
        {
          "output_type": "execute_result",
          "data": {
            "text/plain": [
              "array([[1., 0., 0., 0., 0.],\n",
              "       [0., 2., 0., 0., 0.],\n",
              "       [0., 0., 3., 0., 0.],\n",
              "       [0., 0., 0., 4., 0.],\n",
              "       [0., 0., 0., 0., 5.]])"
            ]
          },
          "metadata": {},
          "execution_count": 114
        }
      ]
    },
    {
      "cell_type": "markdown",
      "source": [
        "30. Write a NumPy program to create a 4x4 matrix in which 0 and 1 are staggered, with zeros on the\n",
        "main diagonal."
      ],
      "metadata": {
        "id": "Ll4BRjpXudFc"
      }
    },
    {
      "cell_type": "code",
      "source": [
        "a = np.zeros((4,4))\n",
        "print(a)"
      ],
      "metadata": {
        "colab": {
          "base_uri": "https://localhost:8080/"
        },
        "id": "7F0z8vdFuhPS",
        "outputId": "757bb078-2fe0-4480-c5ee-300b0fdf1939"
      },
      "execution_count": 136,
      "outputs": [
        {
          "output_type": "stream",
          "name": "stdout",
          "text": [
            "[[0. 0. 0. 0.]\n",
            " [0. 0. 0. 0.]\n",
            " [0. 0. 0. 0.]\n",
            " [0. 0. 0. 0.]]\n"
          ]
        }
      ]
    },
    {
      "cell_type": "code",
      "source": [
        "a[::2, 1::2] = 1\n",
        "a[1::2,::2] = 1\n",
        "print(a)"
      ],
      "metadata": {
        "colab": {
          "base_uri": "https://localhost:8080/"
        },
        "id": "0_FrdaVN8Plp",
        "outputId": "0c5d48e2-629b-4223-dda7-3559545733ae"
      },
      "execution_count": 139,
      "outputs": [
        {
          "output_type": "stream",
          "name": "stdout",
          "text": [
            "[[0. 1. 0. 1.]\n",
            " [1. 0. 1. 0.]\n",
            " [0. 1. 0. 1.]\n",
            " [1. 0. 1. 0.]]\n"
          ]
        }
      ]
    },
    {
      "cell_type": "markdown",
      "source": [
        "31. Write a NumPy program to create a 3x3x3 array filled with arbitrary values."
      ],
      "metadata": {
        "id": "nnoCFcuBuwtI"
      }
    },
    {
      "cell_type": "code",
      "source": [
        "x = np.random.random((3, 3, 3))\n",
        "print(x)"
      ],
      "metadata": {
        "colab": {
          "base_uri": "https://localhost:8080/"
        },
        "id": "bQmabYUEu1rR",
        "outputId": "74ac8d37-22d8-43a7-9e4c-83900664caf6"
      },
      "execution_count": 119,
      "outputs": [
        {
          "output_type": "stream",
          "name": "stdout",
          "text": [
            "[[[0.78464648 0.62110267 0.03784255]\n",
            "  [0.36232211 0.8253732  0.6379707 ]\n",
            "  [0.01860187 0.01724173 0.44001756]]\n",
            "\n",
            " [[0.96409846 0.13122981 0.18604006]\n",
            "  [0.65303719 0.24198643 0.60608635]\n",
            "  [0.97504344 0.95955537 0.43335371]]\n",
            "\n",
            " [[0.22569823 0.39312184 0.0516652 ]\n",
            "  [0.25412138 0.46309947 0.65625493]\n",
            "  [0.72185057 0.30533645 0.595763  ]]]\n"
          ]
        }
      ]
    },
    {
      "cell_type": "markdown",
      "source": [
        "32. Write a NumPy program to compute sum of all elements, sum of each column and sum of each\n",
        "row of a given array."
      ],
      "metadata": {
        "id": "VJc8Sijs5APh"
      }
    },
    {
      "cell_type": "code",
      "source": [
        "a = np.array(np.arange(10,22) .reshape((3,4)))\n",
        "\n"
      ],
      "metadata": {
        "id": "EQ-ZaZsbx_DJ"
      },
      "execution_count": 141,
      "outputs": []
    },
    {
      "cell_type": "code",
      "source": [
        "print(\"Original array:\")\n",
        "print(a)\n",
        "print(\"Sum of all elements:\")\n",
        "print(np.sum(a))\n",
        "print(\"Sum of each column:\")\n",
        "print(np.sum(a, axis=0))\n",
        "print(\"Sum of each row:\")\n",
        "print(np.sum(a, axis=1))"
      ],
      "metadata": {
        "colab": {
          "base_uri": "https://localhost:8080/"
        },
        "id": "YqBtsqgs5QbW",
        "outputId": "4419208c-ac8e-4ab6-fefe-60c1b007e941"
      },
      "execution_count": 142,
      "outputs": [
        {
          "output_type": "stream",
          "name": "stdout",
          "text": [
            "Original array:\n",
            "[[10 11 12 13]\n",
            " [14 15 16 17]\n",
            " [18 19 20 21]]\n",
            "Sum of all elements:\n",
            "186\n",
            "Sum of each column:\n",
            "[42 45 48 51]\n",
            "Sum of each row:\n",
            "[46 62 78]\n"
          ]
        }
      ]
    },
    {
      "cell_type": "markdown",
      "source": [
        "33. Write a NumPy program to compute the inner product of two given vectors."
      ],
      "metadata": {
        "id": "wYYSOy3Q5641"
      }
    },
    {
      "cell_type": "code",
      "source": [
        "a = np.array(np.arange(10,22) .reshape((3,4)))\n",
        "b = np.array(np.arange(20,32) .reshape((3,4)))"
      ],
      "metadata": {
        "id": "HsmkT1yF5UHU"
      },
      "execution_count": 125,
      "outputs": []
    },
    {
      "cell_type": "code",
      "source": [
        "np.inner(a,b)"
      ],
      "metadata": {
        "colab": {
          "base_uri": "https://localhost:8080/"
        },
        "id": "B_wGfhur6N5W",
        "outputId": "ec1bba37-ca36-4c68-f9cb-1913c7eb83c9"
      },
      "execution_count": 146,
      "outputs": [
        {
          "output_type": "execute_result",
          "data": {
            "text/plain": [
              "array([[ 994, 1178, 1362],\n",
              "       [1338, 1586, 1834],\n",
              "       [1682, 1994, 2306]])"
            ]
          },
          "metadata": {},
          "execution_count": 146
        }
      ]
    },
    {
      "cell_type": "markdown",
      "source": [
        "34. Write a NumPy program to add a vector to each row of a given matrix.\n"
      ],
      "metadata": {
        "id": "Ml1fzUFC6jQK"
      }
    },
    {
      "cell_type": "code",
      "source": [
        "import numpy as np\n",
        "m = np.array([[1,2,3], [4,5,6], [7,8,9], [10, 11, 12]])\n",
        "v = np.array([1, 1, 0])\n",
        "print(\"Original vector:\")\n",
        "print(v)\n",
        "print(\"Original matrix:\")\n",
        "print(m)\n",
        "result = np.empty_like(m) \n",
        "for i in range(4):\n",
        "  result[i, :] = m[i, :] + v\n",
        "print(\"\\nAfter adding the vector v to each row of the matrix m:\")\n",
        "print(result)\n"
      ],
      "metadata": {
        "colab": {
          "base_uri": "https://localhost:8080/"
        },
        "id": "Mxv6iNh46RLR",
        "outputId": "58960fed-0abb-4a1b-cd07-843d23ec1805"
      },
      "execution_count": 145,
      "outputs": [
        {
          "output_type": "stream",
          "name": "stdout",
          "text": [
            "Original vector:\n",
            "[1 1 0]\n",
            "Original matrix:\n",
            "[[ 1  2  3]\n",
            " [ 4  5  6]\n",
            " [ 7  8  9]\n",
            " [10 11 12]]\n",
            "\n",
            "After adding the vector v to each row of the matrix m:\n",
            "[[ 2  3  3]\n",
            " [ 5  6  6]\n",
            " [ 8  9  9]\n",
            " [11 12 12]]\n"
          ]
        }
      ]
    },
    {
      "cell_type": "markdown",
      "source": [
        "35. Write a NumPy program to save a given array to a binary file ."
      ],
      "metadata": {
        "id": "IfIpbrpn6vjK"
      }
    },
    {
      "cell_type": "code",
      "source": [
        "import numpy as np\n",
        "import os\n",
        "a = np.arange(20)\n",
        "np.save('temp_arra.npy', a)\n",
        "print(\"Check if 'temp_arra.npy' exists or not?\")\n",
        "if os.path.exists('temp_arra.npy'):\n",
        "    x2 = np.load('temp_arra.npy')\n",
        "    print(np.array_equal(a, x2))\n"
      ],
      "metadata": {
        "colab": {
          "base_uri": "https://localhost:8080/"
        },
        "id": "F_XzyOjf6yZV",
        "outputId": "45769112-c047-4ba3-b2b6-c9a788212338"
      },
      "execution_count": 147,
      "outputs": [
        {
          "output_type": "stream",
          "name": "stdout",
          "text": [
            "Check if 'temp_arra.npy' exists or not?\n",
            "True\n"
          ]
        }
      ]
    },
    {
      "cell_type": "markdown",
      "source": [
        "36. Write a NumPy program to save two given arrays into a single file in compressed format (.npz\n",
        "format) and load it."
      ],
      "metadata": {
        "id": "-COkcq0m6zdc"
      }
    },
    {
      "cell_type": "code",
      "source": [
        "import numpy as np\n",
        "import os\n",
        "x = np.arange(10)\n",
        "y = np.arange(11, 20)\n",
        "print(\"Original arrays:\")\n",
        "print(x)\n",
        "print(y)\n",
        "np.savez('temp_arra.npz', x=x, y=y)\n",
        "print(\"Load arrays from the 'temp_arra.npz' file:\")\n",
        "with np.load('temp_arra.npz') as data:\n",
        "    x2 = data['x']\n",
        "    y2 = data['y']\n",
        "    print(x2)\n",
        "    print(y2)\n"
      ],
      "metadata": {
        "colab": {
          "base_uri": "https://localhost:8080/"
        },
        "id": "Rvq2gXBl62Ai",
        "outputId": "96a6959d-7c5f-4c56-e2ac-b18d567384f6"
      },
      "execution_count": 148,
      "outputs": [
        {
          "output_type": "stream",
          "name": "stdout",
          "text": [
            "Original arrays:\n",
            "[0 1 2 3 4 5 6 7 8 9]\n",
            "[11 12 13 14 15 16 17 18 19]\n",
            "Load arrays from the 'temp_arra.npz' file:\n",
            "[0 1 2 3 4 5 6 7 8 9]\n",
            "[11 12 13 14 15 16 17 18 19]\n"
          ]
        }
      ]
    },
    {
      "cell_type": "markdown",
      "source": [
        "37. Write a NumPy program to save a given array to a text file and load it."
      ],
      "metadata": {
        "id": "dRXp2Bnc628E"
      }
    },
    {
      "cell_type": "code",
      "source": [
        "import numpy as np\n",
        "import os\n",
        "x = np.arange(12).reshape(4, 3)\n",
        "print(\"Original array:\")\n",
        "print(x)\n",
        "header = 'col1 col2 col3'\n",
        "np.savetxt('temp.txt', x, fmt=\"%d\", header=header) \n",
        "print(\"After loading, content of the text file:\")\n",
        "result = np.loadtxt('temp.txt')\n",
        "print(result)\n"
      ],
      "metadata": {
        "colab": {
          "base_uri": "https://localhost:8080/"
        },
        "id": "julU-TqU65fQ",
        "outputId": "bee35c03-1175-4eae-c3f0-9cbec6d2e98e"
      },
      "execution_count": 149,
      "outputs": [
        {
          "output_type": "stream",
          "name": "stdout",
          "text": [
            "Original array:\n",
            "[[ 0  1  2]\n",
            " [ 3  4  5]\n",
            " [ 6  7  8]\n",
            " [ 9 10 11]]\n",
            "After loading, content of the text file:\n",
            "[[ 0.  1.  2.]\n",
            " [ 3.  4.  5.]\n",
            " [ 6.  7.  8.]\n",
            " [ 9. 10. 11.]]\n"
          ]
        }
      ]
    },
    {
      "cell_type": "markdown",
      "source": [
        "38. Write a NumPy program to convert a given array into bytes, and load it as array."
      ],
      "metadata": {
        "id": "F-OZmM1K66Yh"
      }
    },
    {
      "cell_type": "code",
      "source": [
        "import numpy as np\n",
        "import os\n",
        "a = np.array([1, 2, 3, 4, 5, 6])\n",
        "print(\"Original array:\")\n",
        "print(a)\n",
        "a_bytes = a.tobytes()\n",
        "a2 = np.frombuffer(a_bytes, dtype=a.dtype)\n",
        "print(\"After loading, content of the text file:\")\n",
        "print(a2)\n",
        "print(np.array_equal(a, a2))\n"
      ],
      "metadata": {
        "colab": {
          "base_uri": "https://localhost:8080/"
        },
        "id": "fTrct-jg68f_",
        "outputId": "44c95f0b-d074-4bd1-d70a-a9c03c46f0ba"
      },
      "execution_count": 150,
      "outputs": [
        {
          "output_type": "stream",
          "name": "stdout",
          "text": [
            "Original array:\n",
            "[1 2 3 4 5 6]\n",
            "After loading, content of the text file:\n",
            "[1 2 3 4 5 6]\n",
            "True\n"
          ]
        }
      ]
    },
    {
      "cell_type": "markdown",
      "source": [
        "39. Write a NumPy program to convert a given list into an array, then again convert it into a list.\n",
        "Check initial list and final list are equal or not."
      ],
      "metadata": {
        "id": "iasWsjfA69De"
      }
    },
    {
      "cell_type": "code",
      "source": [
        "import numpy as np\n",
        "a = [[1, 2], [3, 4]]\n",
        "x = np.array(a)\n",
        "a2 = x.tolist()\n",
        "print(a == a2)\n"
      ],
      "metadata": {
        "colab": {
          "base_uri": "https://localhost:8080/"
        },
        "id": "aApuHoaw6_Dd",
        "outputId": "53ccc730-63b8-421c-a4b2-0ed0caae6ccf"
      },
      "execution_count": 151,
      "outputs": [
        {
          "output_type": "stream",
          "name": "stdout",
          "text": [
            "True\n"
          ]
        }
      ]
    },
    {
      "cell_type": "markdown",
      "source": [
        "40. Write a NumPy program to compute the x and y coordinates for points on a sine curve and plot\n",
        "the points using matplotlib."
      ],
      "metadata": {
        "id": "6WddnUTa7AIo"
      }
    },
    {
      "cell_type": "code",
      "source": [
        "import numpy as np\n",
        "import matplotlib.pyplot as plt\n",
        "# Compute the x and y coordinates for points on a sine curve\n",
        "x = np.arange(0, 3 * np.pi, 0.2)\n",
        "y = np.sin(x)\n",
        "print(\"Plot the points using matplotlib:\")\n",
        "plt.plot(x, y)\n",
        "plt.show()\n",
        "\n"
      ],
      "metadata": {
        "colab": {
          "base_uri": "https://localhost:8080/",
          "height": 447
        },
        "id": "BbbGt0qj7CYP",
        "outputId": "be7c1eb8-f7c3-43a6-919e-9634f5d171e9"
      },
      "execution_count": 152,
      "outputs": [
        {
          "output_type": "stream",
          "name": "stdout",
          "text": [
            "Plot the points using matplotlib:\n"
          ]
        },
        {
          "output_type": "display_data",
          "data": {
            "text/plain": [
              "<Figure size 640x480 with 1 Axes>"
            ],
            "image/png": "[encoded data removed]"
          },
          "metadata": {}
        }
      ]
    },
    {
      "cell_type": "markdown",
      "source": [
        "41. Write a NumPy program to convert numpy dtypes to native python types."
      ],
      "metadata": {
        "id": "0T8VXYlp7Df4"
      }
    },
    {
      "cell_type": "code",
      "source": [
        "import numpy as np\n",
        "print(\"numpy.float32 to python float\")\n",
        "x = np.float32(0)\n",
        "print(type(x))\n",
        "pyval = x.item()\n",
        "print(type(pyval))\n"
      ],
      "metadata": {
        "colab": {
          "base_uri": "https://localhost:8080/"
        },
        "id": "QkDMhnLJ7GnZ",
        "outputId": "6aec44be-310d-4c16-923a-ccd479cdc16a"
      },
      "execution_count": 153,
      "outputs": [
        {
          "output_type": "stream",
          "name": "stdout",
          "text": [
            "numpy.float32 to python float\n",
            "<class 'numpy.float32'>\n",
            "<class 'float'>\n"
          ]
        }
      ]
    },
    {
      "cell_type": "markdown",
      "source": [
        "42. Write a NumPy program to add elements in a matrix. If an element in the matrix is 0, we will not\n",
        "add the element below this element."
      ],
      "metadata": {
        "id": "vuK-PeSx7HZs"
      }
    },
    {
      "cell_type": "code",
      "source": [
        "import numpy as np\n",
        "def sum_matrix_Elements(m):\n",
        "    arra = np.array(m)   \n",
        "    element_sum = 0  \n",
        "    for p in range(len(arra)):  \n",
        "        for q in range(len(arra[p])):  \n",
        "            if arra[p][q] == 0 and p < len(arra)-1: \n",
        "                arra[p+1][q] = 0  \n",
        "            element_sum += arra[p][q]  \n",
        "    return element_sum\n",
        "m = [[1, 1, 0, 2],\n",
        "          [0, 3, 0, 3], \n",
        "          [1, 0, 4, 4]]\n",
        "print(\"Original matrix:\")\n",
        "print(m)\n",
        "print(\"Sum:\")\n",
        "print(sum_matrix_Elements(m))\n"
      ],
      "metadata": {
        "colab": {
          "base_uri": "https://localhost:8080/"
        },
        "id": "YcxCJioI7JQb",
        "outputId": "98d413a3-f829-40d4-dc7b-18662bd48771"
      },
      "execution_count": 154,
      "outputs": [
        {
          "output_type": "stream",
          "name": "stdout",
          "text": [
            "Original matrix:\n",
            "[[1, 1, 0, 2], [0, 3, 0, 3], [1, 0, 4, 4]]\n",
            "Sum:\n",
            "14\n"
          ]
        }
      ]
    },
    {
      "cell_type": "markdown",
      "source": [
        "43. Write a NumPy program to find the missing data in a given array."
      ],
      "metadata": {
        "id": "YY1yjBRn7KSi"
      }
    },
    {
      "cell_type": "code",
      "source": [
        "import numpy as np \n",
        " \n",
        "nums = np.array([[3, 2, np.nan, 1],\n",
        "              [10, 12, 10, 9],\n",
        "              [5, np.nan, 1, np.nan]])\n",
        "\n",
        "print(\"Original array:\") \n",
        "print(nums)\n",
        "print(\"\\nFind the missing data of the said array:\")\n",
        "print(np.isnan(nums))\n"
      ],
      "metadata": {
        "colab": {
          "base_uri": "https://localhost:8080/"
        },
        "id": "lMnTl1Hm7M9Q",
        "outputId": "452361fb-b3f8-4ce2-f96d-bcf657be9cf2"
      },
      "execution_count": 155,
      "outputs": [
        {
          "output_type": "stream",
          "name": "stdout",
          "text": [
            "Original array:\n",
            "[[ 3.  2. nan  1.]\n",
            " [10. 12. 10.  9.]\n",
            " [ 5. nan  1. nan]]\n",
            "\n",
            "Find the missing data of the said array:\n",
            "[[False False  True False]\n",
            " [False False False False]\n",
            " [False  True False  True]]\n"
          ]
        }
      ]
    },
    {
      "cell_type": "markdown",
      "source": [
        "44. Write a NumPy program to check whether two arrays are equal (element wise) or not."
      ],
      "metadata": {
        "id": "e0bg-Yyt7ODH"
      }
    },
    {
      "cell_type": "code",
      "source": [
        "import numpy as np\n",
        "nums1 = np.array([0.5, 1.5, 0.2])\n",
        "nums2 = np.array([0.4999999999, 1.500000000, 0.2])\n",
        "np.set_printoptions(precision=15)\n",
        "print(\"Original arrays:\")\n",
        "print(nums1)\n",
        "print(nums2)\n",
        "print(\"\\nTest said two arrays are equal (element wise) or not:?\")\n",
        "print(nums1 == nums2)\n",
        "nums1 = np.array([0.5, 1.5, 0.23])\n",
        "nums2 = np.array([0.4999999999, 1.5000000001, 0.23])\n",
        "print(\"\\nOriginal arrays:\")\n",
        "np.set_printoptions(precision=15)\n",
        "print(nums1)\n",
        "print(nums2)\n",
        "print(\"\\nTest said two arrays are equal (element wise) or not:?\")\n",
        "print(np.equal(nums1, nums2))\n"
      ],
      "metadata": {
        "colab": {
          "base_uri": "https://localhost:8080/"
        },
        "id": "H3rKFwM57Qyr",
        "outputId": "5cd54815-0c17-4ef3-a1d9-3a46b58e3b10"
      },
      "execution_count": 156,
      "outputs": [
        {
          "output_type": "stream",
          "name": "stdout",
          "text": [
            "Original arrays:\n",
            "[0.5 1.5 0.2]\n",
            "[0.4999999999 1.5          0.2         ]\n",
            "\n",
            "Test said two arrays are equal (element wise) or not:?\n",
            "[False  True  True]\n",
            "\n",
            "Original arrays:\n",
            "[0.5  1.5  0.23]\n",
            "[0.4999999999 1.5000000001 0.23        ]\n",
            "\n",
            "Test said two arrays are equal (element wise) or not:?\n",
            "[False False  True]\n"
          ]
        }
      ]
    },
    {
      "cell_type": "markdown",
      "source": [
        "45. Write a NumPy program to create one-dimensional array of single, two and three digit numbers."
      ],
      "metadata": {
        "id": "C3P6lRR77Rwq"
      }
    },
    {
      "cell_type": "code",
      "source": [
        "import numpy as np  \n",
        "nums = np.arange(1, 21)\n",
        "print(\"One-dimensional array of single digit numbers:\") \n",
        "print(nums)\n",
        "nums = np.arange(10, 21)\n",
        "print(\"\\nOne-dimensional array of two digit numbers:\") \n",
        "print(nums)\n",
        "nums = np.arange(100, 201)\n",
        "print(\"\\nOne-dimensional array of three digit numbers:\") \n",
        "print(nums)\n"
      ],
      "metadata": {
        "colab": {
          "base_uri": "https://localhost:8080/"
        },
        "id": "DosCycg77T3o",
        "outputId": "b77199b2-a744-40f0-cf26-e6cb3e56622c"
      },
      "execution_count": 157,
      "outputs": [
        {
          "output_type": "stream",
          "name": "stdout",
          "text": [
            "One-dimensional array of single digit numbers:\n",
            "[ 1  2  3  4  5  6  7  8  9 10 11 12 13 14 15 16 17 18 19 20]\n",
            "\n",
            "One-dimensional array of two digit numbers:\n",
            "[10 11 12 13 14 15 16 17 18 19 20]\n",
            "\n",
            "One-dimensional array of three digit numbers:\n",
            "[100 101 102 103 104 105 106 107 108 109 110 111 112 113 114 115 116 117\n",
            " 118 119 120 121 122 123 124 125 126 127 128 129 130 131 132 133 134 135\n",
            " 136 137 138 139 140 141 142 143 144 145 146 147 148 149 150 151 152 153\n",
            " 154 155 156 157 158 159 160 161 162 163 164 165 166 167 168 169 170 171\n",
            " 172 173 174 175 176 177 178 179 180 181 182 183 184 185 186 187 188 189\n",
            " 190 191 192 193 194 195 196 197 198 199 200]\n"
          ]
        }
      ]
    },
    {
      "cell_type": "markdown",
      "source": [
        "46. Write a NumPy program to create a two-dimensional array of specified format."
      ],
      "metadata": {
        "id": "_TNhfpdF7Ukg"
      }
    },
    {
      "cell_type": "code",
      "source": [
        "import numpy as np   \n",
        "print(\"Create an array of shape (15,10):\") \n",
        "print(\"Command-1\")\n",
        "print(np.arange(1, 151).reshape(15, 10)) \n",
        "print(\"\\nCommand-2\")\n",
        "print(np.arange(1, 151).reshape(-1, 10)) \n",
        "print(\"\\nCommand-3\")\n",
        "print(np.arange(1, 151).reshape(15, -1))\n"
      ],
      "metadata": {
        "colab": {
          "base_uri": "https://localhost:8080/"
        },
        "id": "EsIaS4fp7W73",
        "outputId": "b4fd21ba-fb08-4cd5-ab4b-f0ea26f51fa1"
      },
      "execution_count": 158,
      "outputs": [
        {
          "output_type": "stream",
          "name": "stdout",
          "text": [
            "Create an array of shape (15,10):\n",
            "Command-1\n",
            "[[  1   2   3   4   5   6   7   8   9  10]\n",
            " [ 11  12  13  14  15  16  17  18  19  20]\n",
            " [ 21  22  23  24  25  26  27  28  29  30]\n",
            " [ 31  32  33  34  35  36  37  38  39  40]\n",
            " [ 41  42  43  44  45  46  47  48  49  50]\n",
            " [ 51  52  53  54  55  56  57  58  59  60]\n",
            " [ 61  62  63  64  65  66  67  68  69  70]\n",
            " [ 71  72  73  74  75  76  77  78  79  80]\n",
            " [ 81  82  83  84  85  86  87  88  89  90]\n",
            " [ 91  92  93  94  95  96  97  98  99 100]\n",
            " [101 102 103 104 105 106 107 108 109 110]\n",
            " [111 112 113 114 115 116 117 118 119 120]\n",
            " [121 122 123 124 125 126 127 128 129 130]\n",
            " [131 132 133 134 135 136 137 138 139 140]\n",
            " [141 142 143 144 145 146 147 148 149 150]]\n",
            "\n",
            "Command-2\n",
            "[[  1   2   3   4   5   6   7   8   9  10]\n",
            " [ 11  12  13  14  15  16  17  18  19  20]\n",
            " [ 21  22  23  24  25  26  27  28  29  30]\n",
            " [ 31  32  33  34  35  36  37  38  39  40]\n",
            " [ 41  42  43  44  45  46  47  48  49  50]\n",
            " [ 51  52  53  54  55  56  57  58  59  60]\n",
            " [ 61  62  63  64  65  66  67  68  69  70]\n",
            " [ 71  72  73  74  75  76  77  78  79  80]\n",
            " [ 81  82  83  84  85  86  87  88  89  90]\n",
            " [ 91  92  93  94  95  96  97  98  99 100]\n",
            " [101 102 103 104 105 106 107 108 109 110]\n",
            " [111 112 113 114 115 116 117 118 119 120]\n",
            " [121 122 123 124 125 126 127 128 129 130]\n",
            " [131 132 133 134 135 136 137 138 139 140]\n",
            " [141 142 143 144 145 146 147 148 149 150]]\n",
            "\n",
            "Command-3\n",
            "[[  1   2   3   4   5   6   7   8   9  10]\n",
            " [ 11  12  13  14  15  16  17  18  19  20]\n",
            " [ 21  22  23  24  25  26  27  28  29  30]\n",
            " [ 31  32  33  34  35  36  37  38  39  40]\n",
            " [ 41  42  43  44  45  46  47  48  49  50]\n",
            " [ 51  52  53  54  55  56  57  58  59  60]\n",
            " [ 61  62  63  64  65  66  67  68  69  70]\n",
            " [ 71  72  73  74  75  76  77  78  79  80]\n",
            " [ 81  82  83  84  85  86  87  88  89  90]\n",
            " [ 91  92  93  94  95  96  97  98  99 100]\n",
            " [101 102 103 104 105 106 107 108 109 110]\n",
            " [111 112 113 114 115 116 117 118 119 120]\n",
            " [121 122 123 124 125 126 127 128 129 130]\n",
            " [131 132 133 134 135 136 137 138 139 140]\n",
            " [141 142 143 144 145 146 147 148 149 150]]\n"
          ]
        }
      ]
    },
    {
      "cell_type": "markdown",
      "source": [
        "47. Write a NumPy program to create a one dimensional array of forty pseudo-randomly generated\n",
        "values. Select random numbers from a uniform distribution between 0 and 1."
      ],
      "metadata": {
        "id": "5_1j_d387d6-"
      }
    },
    {
      "cell_type": "code",
      "source": [
        "import numpy as np  \n",
        "np.random.seed(10)\n",
        "print(np.random.rand(40))\n"
      ],
      "metadata": {
        "colab": {
          "base_uri": "https://localhost:8080/"
        },
        "id": "QAqUYbEJ7gOl",
        "outputId": "337e008b-8e42-4d63-ec76-eb4f1ed97675"
      },
      "execution_count": 159,
      "outputs": [
        {
          "output_type": "stream",
          "name": "stdout",
          "text": [
            "[0.771320643266746 0.020751949359402 0.633648234926275 0.748803882538612\n",
            " 0.49850701230259  0.224796645530848 0.198062864759624 0.760530712198959\n",
            " 0.169110836562535 0.08833981417401  0.685359818367797 0.953393346194937\n",
            " 0.003948266327914 0.512192263385777 0.812620961652114 0.612526066829388\n",
            " 0.7217553174318   0.291876068170633 0.917774122512943 0.714575783397691\n",
            " 0.542544368011261 0.142170047601527 0.373340760051469 0.674133615066345\n",
            " 0.441833174422996 0.434013993333294 0.617766978469317 0.513138242554391\n",
            " 0.650397181931467 0.601038953404544 0.805223196832746 0.521647152393634\n",
            " 0.908648880808668 0.319236088988545 0.090459349270907 0.300700056636203\n",
            " 0.11398436186355  0.828681326307677 0.04689631938925  0.626287148311393]\n"
          ]
        }
      ]
    },
    {
      "cell_type": "markdown",
      "source": [
        "48. Write a NumPy program to create a two-dimensional array with shape (8,5) of random numbers.\n",
        "Select random numbers from a normal distribution (200,7)."
      ],
      "metadata": {
        "id": "gfFZdUjJ7giE"
      }
    },
    {
      "cell_type": "code",
      "source": [
        "import numpy as np \n",
        "np.random.seed(20) \n",
        "cbrt = np.cbrt(7)\n",
        "nd1 = 200 \n",
        "print(cbrt * np.random.randn(10, 4) + nd1) \n"
      ],
      "metadata": {
        "colab": {
          "base_uri": "https://localhost:8080/"
        },
        "id": "F-XGEfkU7iyY",
        "outputId": "7d8f89a6-e6d6-4709-e401-d0bfd451b53d"
      },
      "execution_count": 160,
      "outputs": [
        {
          "output_type": "stream",
          "name": "stdout",
          "text": [
            "[[201.69082669736346 200.3746763082702  200.68394275021677\n",
            "  195.51750123129818]\n",
            " [197.92478991563303 201.07066048488275 201.79714021459858\n",
            "  198.12823310277952]\n",
            " [200.96238963339914 200.77744291067876 200.61875865227867\n",
            "  199.05613893807728]\n",
            " [198.48492638364303 198.38860811141893 197.55239946005003\n",
            "  200.47003620983824]\n",
            " [199.9154583876559  202.99877319355295 202.01069856971475\n",
            "  200.77735483308504]\n",
            " [199.67739161408255 193.89831807071494 202.14273592752286\n",
            "  202.54951299405823]\n",
            " [199.53450968631876 199.75126019761723 199.791457270905\n",
            "  202.97687756587686]\n",
            " [200.24634412660365 196.0460693352411  198.3061125324022\n",
            "  197.88701546225133]\n",
            " [201.7845091237894  203.94032834458278 198.21152802602944\n",
            "  196.91446071431977]\n",
            " [201.0082480992413  197.03285103581035 200.6305276348363\n",
            "  197.82590294139914]]\n"
          ]
        }
      ]
    },
    {
      "cell_type": "markdown",
      "source": [
        "49. Write a NumPy program to generate a uniform, non-uniform random sample from a given 1-D\n",
        "array with and without replacement."
      ],
      "metadata": {
        "id": "KnUTWVqm7j-K"
      }
    },
    {
      "cell_type": "code",
      "source": [
        "import numpy as np \n",
        "print(\"Generate a uniform random sample with replacement:\") \n",
        "print(np.random.choice(7, 5))\n",
        "print(\"\\nGenerate a uniform random sample without replacement:\") \n",
        "print(np.random.choice(7, 5, replace=False))\n",
        "print(\"\\nGenerate a non-uniform random sample with replacement:\") \n",
        "print(np.random.choice(7, 5, p=[0.1, 0.2, 0, 0.2, 0.4, 0, 0.1]))\n",
        "print(\"\\nGenerate a uniform random sample without replacement:\") \n",
        "print(np.random.choice(7, 5, replace=False, p=[0.1, 0.2, 0, 0.2, 0.4, 0, 0.1]))  \n"
      ],
      "metadata": {
        "colab": {
          "base_uri": "https://localhost:8080/"
        },
        "id": "6cV_Rgdr7l6i",
        "outputId": "ff1b3505-1e3a-46ad-973c-c9c982259c06"
      },
      "execution_count": 161,
      "outputs": [
        {
          "output_type": "stream",
          "name": "stdout",
          "text": [
            "Generate a uniform random sample with replacement:\n",
            "[2 2 1 5 2]\n",
            "\n",
            "Generate a uniform random sample without replacement:\n",
            "[6 3 5 4 2]\n",
            "\n",
            "Generate a non-uniform random sample with replacement:\n",
            "[6 1 6 0 1]\n",
            "\n",
            "Generate a uniform random sample without replacement:\n",
            "[1 6 4 3 0]\n"
          ]
        }
      ]
    },
    {
      "cell_type": "markdown",
      "source": [
        "50. Write a NumPy program to create a 4x4 array with random values, now create a new array from\n",
        "the said array swapping first and last rows."
      ],
      "metadata": {
        "id": "FDevRWXs7mqq"
      }
    },
    {
      "cell_type": "code",
      "source": [
        "import numpy as np\n",
        "nums = np.arange(16, dtype='int').reshape(-1, 4)\n",
        "print(\"Original array:\")\n",
        "print(nums)\n",
        "print(\"\\nNew array after swapping first and last rows of the said array:\")\n",
        "nums[[0,-1],:]=nums[[-1,0],:]\n",
        "print(nums)\n"
      ],
      "metadata": {
        "colab": {
          "base_uri": "https://localhost:8080/"
        },
        "id": "QK01FMz_7pJw",
        "outputId": "b8fe8fbd-60a2-4d30-ef5a-fe1a1dc8e815"
      },
      "execution_count": 162,
      "outputs": [
        {
          "output_type": "stream",
          "name": "stdout",
          "text": [
            "Original array:\n",
            "[[ 0  1  2  3]\n",
            " [ 4  5  6  7]\n",
            " [ 8  9 10 11]\n",
            " [12 13 14 15]]\n",
            "\n",
            "New array after swapping first and last rows of the said array:\n",
            "[[12 13 14 15]\n",
            " [ 4  5  6  7]\n",
            " [ 8  9 10 11]\n",
            " [ 0  1  2  3]]\n"
          ]
        }
      ]
    },
    {
      "cell_type": "markdown",
      "source": [
        "51. Write a NumPy program to create a new array of given shape (5,6) and type, filled with zeros."
      ],
      "metadata": {
        "id": "mDD9dqpl7scq"
      }
    },
    {
      "cell_type": "code",
      "source": [
        "import numpy as np\n",
        "nums = np.zeros(shape=(5, 6), dtype='int')\n",
        "print(\"Original array:\")\n",
        "print(nums)\n",
        "nums[::2, ::2] = 3\n",
        "nums[1::2, ::2] = 7\n",
        "print(\"\\nNew array:\")\n",
        "print(nums)\n"
      ],
      "metadata": {
        "colab": {
          "base_uri": "https://localhost:8080/"
        },
        "id": "-9MD1SI_7tAJ",
        "outputId": "62e5d449-27be-4258-a61a-0e0444c73841"
      },
      "execution_count": 163,
      "outputs": [
        {
          "output_type": "stream",
          "name": "stdout",
          "text": [
            "Original array:\n",
            "[[0 0 0 0 0 0]\n",
            " [0 0 0 0 0 0]\n",
            " [0 0 0 0 0 0]\n",
            " [0 0 0 0 0 0]\n",
            " [0 0 0 0 0 0]]\n",
            "\n",
            "New array:\n",
            "[[3 0 3 0 3 0]\n",
            " [7 0 7 0 7 0]\n",
            " [3 0 3 0 3 0]\n",
            " [7 0 7 0 7 0]\n",
            " [3 0 3 0 3 0]]\n"
          ]
        }
      ]
    },
    {
      "cell_type": "markdown",
      "source": [
        "52. Write a NumPy program to sort a given array by row and column in ascending order."
      ],
      "metadata": {
        "id": "fTQpdPMD7tt5"
      }
    },
    {
      "cell_type": "code",
      "source": [
        "import numpy as np  \n",
        "nums = np.array([[5.54, 3.38, 7.99],\n",
        "              [3.54, 4.38, 6.99],\n",
        "              [1.54, 2.39, 9.29]])\n",
        "print(\"Original array:\")\n",
        "print(nums)\n",
        "print(\"\\nSort the said array by row in ascending order:\")\n",
        "print(np.sort(nums))\n",
        "print(\"\\nSort the said array by column in ascending order:\")\n",
        "print(np.sort(nums, axis=0))\n"
      ],
      "metadata": {
        "colab": {
          "base_uri": "https://localhost:8080/"
        },
        "id": "AwuCxJiH7wDY",
        "outputId": "759d17d5-b46c-42f8-ee9b-0d5d9f4721b8"
      },
      "execution_count": 164,
      "outputs": [
        {
          "output_type": "stream",
          "name": "stdout",
          "text": [
            "Original array:\n",
            "[[5.54 3.38 7.99]\n",
            " [3.54 4.38 6.99]\n",
            " [1.54 2.39 9.29]]\n",
            "\n",
            "Sort the said array by row in ascending order:\n",
            "[[3.38 5.54 7.99]\n",
            " [3.54 4.38 6.99]\n",
            " [1.54 2.39 9.29]]\n",
            "\n",
            "Sort the said array by column in ascending order:\n",
            "[[1.54 2.39 6.99]\n",
            " [3.54 3.38 7.99]\n",
            " [5.54 4.38 9.29]]\n"
          ]
        }
      ]
    },
    {
      "cell_type": "markdown",
      "source": [
        "53. Write a NumPy program to extract all numbers from a given array which are less and greater\n",
        "than a specified number."
      ],
      "metadata": {
        "id": "7Wyqob3g7wxn"
      }
    },
    {
      "cell_type": "code",
      "source": [
        "import numpy as np  \n",
        "nums = np.array([[5.54, 3.38, 7.99],\n",
        "              [3.54, 4.38, 6.99],\n",
        "              [1.54, 2.39, 9.29]])\n",
        "print(\"Original array:\")\n",
        "print(nums)\n",
        "n = 5\n",
        "print(\"\\nElements of the said array greater than\",n)\n",
        "print(nums[nums > n])\n",
        "n = 6\n",
        "print(\"\\nElements of the said array less than\",n)\n",
        "print(nums[nums < n])\n"
      ],
      "metadata": {
        "colab": {
          "base_uri": "https://localhost:8080/"
        },
        "id": "0qph5uK47yuW",
        "outputId": "51eee5aa-c551-491a-d70d-11b5419f1f85"
      },
      "execution_count": 165,
      "outputs": [
        {
          "output_type": "stream",
          "name": "stdout",
          "text": [
            "Original array:\n",
            "[[5.54 3.38 7.99]\n",
            " [3.54 4.38 6.99]\n",
            " [1.54 2.39 9.29]]\n",
            "\n",
            "Elements of the said array greater than 5\n",
            "[5.54 7.99 6.99 9.29]\n",
            "\n",
            "Elements of the said array less than 6\n",
            "[5.54 3.38 3.54 4.38 1.54 2.39]\n"
          ]
        }
      ]
    },
    {
      "cell_type": "markdown",
      "source": [
        "54. Write a NumPy program to replace all numbers in a given array which is equal, less and greater\n",
        "to a given number."
      ],
      "metadata": {
        "id": "nAy2JFs17zTF"
      }
    },
    {
      "cell_type": "code",
      "source": [
        "import numpy as np\n",
        "nums = np.array([[5.54, 3.38, 7.99],\n",
        "              [3.54, 8.32, 6.99],\n",
        "              [1.54, 2.39, 9.29]])\n",
        "print(\"Original array:\")\n",
        "print(nums)\n",
        "n = 8.32\n",
        "r = 18.32\n",
        "print(\"\\nReplace elements of the said array which are equal to \",n,\"with\",r)\n",
        "print(np.where(nums == n, r, nums))\n",
        "print(\"\\nReplace elements with of the said array which are less than\",n,\"with\",r)\n",
        "print(np.where(nums < n, r, nums))\n",
        "print(\"\\nReplace elements with of the said array which are greater than\",n,\"with\",r)\n",
        "print(np.where(nums > n, r, nums))\n"
      ],
      "metadata": {
        "colab": {
          "base_uri": "https://localhost:8080/"
        },
        "id": "N3jWoKrI71SE",
        "outputId": "78f9a90c-34f5-4366-d72f-a3ac8c23292d"
      },
      "execution_count": 166,
      "outputs": [
        {
          "output_type": "stream",
          "name": "stdout",
          "text": [
            "Original array:\n",
            "[[5.54 3.38 7.99]\n",
            " [3.54 8.32 6.99]\n",
            " [1.54 2.39 9.29]]\n",
            "\n",
            "Replace elements of the said array which are equal to  8.32 with 18.32\n",
            "[[ 5.54  3.38  7.99]\n",
            " [ 3.54 18.32  6.99]\n",
            " [ 1.54  2.39  9.29]]\n",
            "\n",
            "Replace elements with of the said array which are less than 8.32 with 18.32\n",
            "[[18.32 18.32 18.32]\n",
            " [18.32  8.32 18.32]\n",
            " [18.32 18.32  9.29]]\n",
            "\n",
            "Replace elements with of the said array which are greater than 8.32 with 18.32\n",
            "[[ 5.54  3.38  7.99]\n",
            " [ 3.54  8.32  6.99]\n",
            " [ 1.54  2.39 18.32]]\n"
          ]
        }
      ]
    },
    {
      "cell_type": "markdown",
      "source": [
        "55. Write a NumPy program to create an array of equal shape and data type of a given array."
      ],
      "metadata": {
        "id": "WYlF3pFI73wT"
      }
    },
    {
      "cell_type": "code",
      "source": [
        "import numpy as np  \n",
        "nums = np.array([[5.54, 3.38, 7.99],\n",
        "              [3.54, 8.32, 6.99],\n",
        "              [1.54, 2.39, 9.29]])\n",
        "print(\"Original array:\")\n",
        "print(nums)\n",
        "print(\"\\nNew array of equal shape and data type of the said array filled by 0:\")\n",
        "print(np.zeros_like(nums))\n"
      ],
      "metadata": {
        "colab": {
          "base_uri": "https://localhost:8080/"
        },
        "id": "11vnhQkW74Lz",
        "outputId": "e5f94654-f4c9-4fe5-c223-ce86b28dbafb"
      },
      "execution_count": 167,
      "outputs": [
        {
          "output_type": "stream",
          "name": "stdout",
          "text": [
            "Original array:\n",
            "[[5.54 3.38 7.99]\n",
            " [3.54 8.32 6.99]\n",
            " [1.54 2.39 9.29]]\n",
            "\n",
            "New array of equal shape and data type of the said array filled by 0:\n",
            "[[0. 0. 0.]\n",
            " [0. 0. 0.]\n",
            " [0. 0. 0.]]\n"
          ]
        }
      ]
    },
    {
      "cell_type": "markdown",
      "source": [
        "56. Write a NumPy program to create a three-dimension array with shape (3,5,4) and set to a\n",
        "variable."
      ],
      "metadata": {
        "id": "M4R_CeCE75Ba"
      }
    },
    {
      "cell_type": "code",
      "source": [
        "import numpy as np  \n",
        "nums = np.array([[[1, 5, 2, 1],\n",
        "               [4, 3, 5, 6],\n",
        "               [6, 3, 0, 6],\n",
        "               [7, 3, 5, 0],\n",
        "               [2, 3, 3, 5]],\n",
        "              \n",
        "              [[2, 2, 3, 1],\n",
        "               [4, 0, 0, 5],\n",
        "               [6, 3, 2, 1],\n",
        "               [5, 1, 0, 0],               \n",
        "               [0, 1, 9, 1]],\n",
        "              \n",
        "              [[3, 1, 4, 2],\n",
        "               [4, 1, 6, 0],\n",
        "               [1, 2, 0, 6],\n",
        "               [8, 3, 4, 0],               \n",
        "               [2, 0, 2, 8]]]) \n",
        "print(\"Array:\")\n",
        "print(nums)\n"
      ],
      "metadata": {
        "colab": {
          "base_uri": "https://localhost:8080/"
        },
        "id": "K4HfqWTJ762a",
        "outputId": "3c8ae879-2443-47e8-ed0f-70e380cde774"
      },
      "execution_count": 168,
      "outputs": [
        {
          "output_type": "stream",
          "name": "stdout",
          "text": [
            "Array:\n",
            "[[[1 5 2 1]\n",
            "  [4 3 5 6]\n",
            "  [6 3 0 6]\n",
            "  [7 3 5 0]\n",
            "  [2 3 3 5]]\n",
            "\n",
            " [[2 2 3 1]\n",
            "  [4 0 0 5]\n",
            "  [6 3 2 1]\n",
            "  [5 1 0 0]\n",
            "  [0 1 9 1]]\n",
            "\n",
            " [[3 1 4 2]\n",
            "  [4 1 6 0]\n",
            "  [1 2 0 6]\n",
            "  [8 3 4 0]\n",
            "  [2 0 2 8]]]\n"
          ]
        }
      ]
    },
    {
      "cell_type": "markdown",
      "source": [
        "57. Write a NumPy program to create a 4x4 array, now create a new array from the said array\n",
        "swapping first and last, second and third columns."
      ],
      "metadata": {
        "id": "hWFs6F7q77mq"
      }
    },
    {
      "cell_type": "code",
      "source": [
        "import numpy as np \n",
        "nums = np.arange(16, dtype='int').reshape(-1, 4)\n",
        "print(\"Original array:\")\n",
        "print(nums)\n",
        "print(\"\\nNew array after swapping first and last columns of the said array:\")\n",
        "new_nums = nums[:, ::-1]\n",
        "print(new_nums)\n"
      ],
      "metadata": {
        "colab": {
          "base_uri": "https://localhost:8080/"
        },
        "id": "WjfGyQy079zJ",
        "outputId": "0ee07301-6697-4bc4-dbcd-0137e557ed5e"
      },
      "execution_count": 169,
      "outputs": [
        {
          "output_type": "stream",
          "name": "stdout",
          "text": [
            "Original array:\n",
            "[[ 0  1  2  3]\n",
            " [ 4  5  6  7]\n",
            " [ 8  9 10 11]\n",
            " [12 13 14 15]]\n",
            "\n",
            "New array after swapping first and last columns of the said array:\n",
            "[[ 3  2  1  0]\n",
            " [ 7  6  5  4]\n",
            " [11 10  9  8]\n",
            " [15 14 13 12]]\n"
          ]
        }
      ]
    },
    {
      "cell_type": "markdown",
      "source": [
        "58. Write a NumPy program to swap rows and columns of a given array in reverse order."
      ],
      "metadata": {
        "id": "uTkUE4SG7-lv"
      }
    },
    {
      "cell_type": "code",
      "source": [
        "import numpy as np\n",
        "nums = np.array([[[1, 2, 3, 4],\n",
        "               [0, 1, 3, 4],\n",
        "               [90, 91, 93, 94],\n",
        "               [5, 0, 3, 2]]])\n",
        "print(\"Original array:\")\n",
        "print(nums)\n",
        "print(\"\\nSwap rows and columns of the said array in reverse order:\")\n",
        "new_nums = print(nums[::-1, ::-1])\n",
        "print(new_nums)\n"
      ],
      "metadata": {
        "colab": {
          "base_uri": "https://localhost:8080/"
        },
        "id": "8H_LTVhD8AMX",
        "outputId": "e6218a65-6239-42b3-94a2-0cf1c80b9c55"
      },
      "execution_count": 170,
      "outputs": [
        {
          "output_type": "stream",
          "name": "stdout",
          "text": [
            "Original array:\n",
            "[[[ 1  2  3  4]\n",
            "  [ 0  1  3  4]\n",
            "  [90 91 93 94]\n",
            "  [ 5  0  3  2]]]\n",
            "\n",
            "Swap rows and columns of the said array in reverse order:\n",
            "[[[ 5  0  3  2]\n",
            "  [90 91 93 94]\n",
            "  [ 0  1  3  4]\n",
            "  [ 1  2  3  4]]]\n",
            "None\n"
          ]
        }
      ]
    },
    {
      "cell_type": "markdown",
      "source": [
        "59. Write a NumPy program to multiply two given arrays of same size element-by-element."
      ],
      "metadata": {
        "id": "s31hqD4y8BDW"
      }
    },
    {
      "cell_type": "code",
      "source": [
        "import numpy as np \n",
        "nums1 = np.array([[2, 5, 2],\n",
        "              [1, 5, 5]])\n",
        "nums2 = np.array([[5, 3, 4],\n",
        "              [3, 2, 5]])\n",
        "print(\"Array1:\") \n",
        "print(nums1)\n",
        "print(\"Array2:\") \n",
        "print(nums2)\n",
        "print(\"\\nMultiply said arrays of same size element-by-element:\")\n",
        "print(np.multiply(nums1, nums2))\n"
      ],
      "metadata": {
        "colab": {
          "base_uri": "https://localhost:8080/"
        },
        "id": "U17q0OZh8C_V",
        "outputId": "2e9addf5-a02d-4c76-8ebd-d57ad4b93823"
      },
      "execution_count": 171,
      "outputs": [
        {
          "output_type": "stream",
          "name": "stdout",
          "text": [
            "Array1:\n",
            "[[2 5 2]\n",
            " [1 5 5]]\n",
            "Array2:\n",
            "[[5 3 4]\n",
            " [3 2 5]]\n",
            "\n",
            "Multiply said arrays of same size element-by-element:\n",
            "[[10 15  8]\n",
            " [ 3 10 25]]\n"
          ]
        }
      ]
    },
    {
      "cell_type": "code",
      "source": [],
      "metadata": {
        "id": "IXSJzfl2Hui6"
      },
      "execution_count": null,
      "outputs": []
    }
  ]
}